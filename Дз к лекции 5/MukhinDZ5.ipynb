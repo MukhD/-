{
 "cells": [
  {
   "cell_type": "markdown",
   "id": "0fdaa703-fe74-40ca-81e1-839091c9627e",
   "metadata": {},
   "source": [
    "Задание 1-2. Чтение продаж из csv. Расчёт доходов. Конвертация в json (сохраняются в директорию с программой)"
   ]
  },
  {
   "cell_type": "code",
   "execution_count": null,
   "id": "9bb8ae94-7215-41e6-8146-94db1314cd28",
   "metadata": {},
   "outputs": [],
   "source": [
    "import csv\n",
    "import json \n",
    "\n",
    "data = []\n",
    "result = {}\n",
    "\n",
    "with open('data.csv', 'r') as file:\n",
    "    reader = csv.reader(file, delimiter = ';')\n",
    "    header = reader.__next__()\n",
    "    for row in reader:\n",
    "        data.append({header[0]:int(row[0]), header[1]:row[1], header[2]:float(row[2]), header[3]:float(row[3])})\n",
    "\n",
    "        if result.get(row[0]) == None:\n",
    "            result[row[0]] = 0\n",
    "        result[row[0]] = result[row[0]] + float(row[2])*float(row[3]) \n",
    "        \n",
    "    with open('data.json', 'w') as file:\n",
    "        json.dump(data, file)\n",
    "        print('JSON исходных данных:\\n' + str(data))\n",
    "        \n",
    "    with open('result.json', 'w') as file:\n",
    "        json.dump(result, file)\n",
    "        print('Доход по каждому артикулу:\\n' + str(result))"
   ]
  },
  {
   "cell_type": "markdown",
   "id": "129ede43-8fd1-4588-b864-eed4e25d992d",
   "metadata": {},
   "source": [
    "Задание 3. Извлечение списка постов (сохраняется в директорию с программой)"
   ]
  },
  {
   "cell_type": "code",
   "execution_count": null,
   "id": "b6aae8d8-0493-4268-a364-064ce3edfb4e",
   "metadata": {},
   "outputs": [],
   "source": [
    "import requests as rq\n",
    "import json\n",
    "\n",
    "resp = rq.get('https://jsonplaceholder.typicode.com/posts')\n",
    "\n",
    "with open('response.json', 'w') as file:\n",
    "    json.dump(resp.json(), file)"
   ]
  },
  {
   "cell_type": "markdown",
   "id": "09959eb4-f7e6-42a6-b217-f9b5380b06dd",
   "metadata": {},
   "source": [
    "Задание 4. Находим пост с наибольшим кол-вом комментариев"
   ]
  },
  {
   "cell_type": "code",
   "execution_count": null,
   "id": "82b389db-7466-4d68-b1bf-c3a37622596d",
   "metadata": {},
   "outputs": [],
   "source": [
    "import requests as rq\n",
    "\n",
    "respJSON = rq.get('https://jsonplaceholder.typicode.com/comments').json()\n",
    "commCount = {}\n",
    "\n",
    "for row in respJSON:\n",
    "    if commCount.get(row['postId']) == None:\n",
    "        commCount[row['postId']] = 0\n",
    "    commCount[row['postId']] += 1\n",
    "\n",
    "maxVal = max(commCount.values())\n",
    "print('ID постов с наибольшим кол-вом комментариев: \\n' + str([k for k in commCount if commCount[k] == maxVal])) \n",
    "# Сайт отдаёт равное количество комментов каждому посту\n",
    "# поэтому программа выдаст все 100 id, если количество комментов будет неравным, то выдаст id постов с максимальным количеством "
   ]
  }
 ],
 "metadata": {
  "kernelspec": {
   "display_name": "Python 3 (ipykernel)",
   "language": "python",
   "name": "python3"
  },
  "language_info": {
   "codemirror_mode": {
    "name": "ipython",
    "version": 3
   },
   "file_extension": ".py",
   "mimetype": "text/x-python",
   "name": "python",
   "nbconvert_exporter": "python",
   "pygments_lexer": "ipython3",
   "version": "3.12.4"
  }
 },
 "nbformat": 4,
 "nbformat_minor": 5
}
