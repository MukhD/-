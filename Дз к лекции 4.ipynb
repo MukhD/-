{
 "cells": [
  {
   "cell_type": "markdown",
   "id": "383f1ecb-c29d-44b2-be5c-9863b5d157d5",
   "metadata": {},
   "source": [
    "Задание 1. Вывести количество вхождений символа в виде словаря."
   ]
  },
  {
   "cell_type": "code",
   "execution_count": null,
   "id": "b27d0e8e-9bf5-48e1-9071-95b6558073d3",
   "metadata": {},
   "outputs": [],
   "source": [
    "inp_str = input('Введите строку: ') \n",
    "symb_count = {}\n",
    "\n",
    "for i in range(0, len(inp_str)):\n",
    "    if inp_str[i] not in symb_count:\n",
    "        symb_count[inp_str[i]] = 1\n",
    "    else:\n",
    "        symb_count[inp_str[i]] += 1\n",
    "\n",
    "print(symb_count)"
   ]
  },
  {
   "cell_type": "markdown",
   "id": "45570be8-63d2-4e3a-9640-738c18bb12a7",
   "metadata": {},
   "source": [
    "Задание 2. Вывести множество введённых чисел неизменно и без дубликатов."
   ]
  },
  {
   "cell_type": "code",
   "execution_count": null,
   "id": "1d48b2a6-0fc2-49d0-bc63-c97fada320c4",
   "metadata": {},
   "outputs": [],
   "source": [
    "inp = list(map(int, input('Введите числа: ').split())) \n",
    "inp_sorted = sorted(set(inp))\n",
    "\n",
    "print(inp) \n",
    "print(inp_sorted)"
   ]
  },
  {
   "cell_type": "markdown",
   "id": "d7cd5846-31f0-423b-bf1c-d0a10208317e",
   "metadata": {},
   "source": [
    "Задание 3. Вывод текущих даты и времени"
   ]
  },
  {
   "cell_type": "code",
   "execution_count": null,
   "id": "73df678a-0c60-4c59-8e63-98a2b2833e54",
   "metadata": {},
   "outputs": [],
   "source": [
    "import datetime as dt\n",
    "\n",
    "curr_dt = dt.datetime.now() \n",
    "print(curr_dt.strftime('%d %B %Y, %H:%M:%S'))"
   ]
  },
  {
   "cell_type": "markdown",
   "id": "1c11b880-8ab2-48e6-8155-ad150bfd0475",
   "metadata": {},
   "source": [
    "Задание 4. Уменьшение размера изображения вдвое"
   ]
  },
  {
   "cell_type": "code",
   "execution_count": null,
   "id": "2e0b2ef6-8ff0-49d2-b32b-1b37a7345718",
   "metadata": {},
   "outputs": [],
   "source": [
    "!pip install opencv-python"
   ]
  },
  {
   "cell_type": "code",
   "execution_count": null,
   "id": "0bfe09bb-09a4-4c71-9736-668b458b7109",
   "metadata": {},
   "outputs": [],
   "source": [
    "import cv2\n",
    "\n",
    "img_name = input('Введите название файла с изображением (с расширением): ')\n",
    "img = cv2.imread(img_name)\n",
    "height, width, channels = img.shape\n",
    "print('Текущий размер изображения %s x %s px' %(height, width))\n",
    "\n",
    "img_resized = cv2.resize(img, (height // 2 , width // 2))\n",
    "height, width, channels = img_resized.shape\n",
    "print('Новый размер изображения %s x %s px' %(height, width))\n",
    "new_name = 'resized_' + img_name\n",
    "cv2.imwrite(new_name, img_resized)"
   ]
  }
 ],
 "metadata": {
  "kernelspec": {
   "display_name": "Python 3 (ipykernel)",
   "language": "python",
   "name": "python3"
  },
  "language_info": {
   "codemirror_mode": {
    "name": "ipython",
    "version": 3
   },
   "file_extension": ".py",
   "mimetype": "text/x-python",
   "name": "python",
   "nbconvert_exporter": "python",
   "pygments_lexer": "ipython3",
   "version": "3.12.4"
  }
 },
 "nbformat": 4,
 "nbformat_minor": 5
}
