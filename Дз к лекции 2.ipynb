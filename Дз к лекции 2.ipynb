{
 "cells": [
  {
   "cell_type": "markdown",
   "id": "d56eba54-899b-4ef3-8d47-6c2a4fcf06a3",
   "metadata": {},
   "source": [
    "Задание 1. Запросить имя, возраст и любымий цвет. Вывести в читаемом формате"
   ]
  },
  {
   "cell_type": "code",
   "execution_count": null,
   "id": "24de2359-681c-4f4c-a797-ededbd97073a",
   "metadata": {
    "scrolled": true
   },
   "outputs": [],
   "source": [
    "name = input('Введите имя: ')\n",
    "age = input('Введите возраст: ')\n",
    "fav_color = input('Введите любимый цвет: ')\n",
    "\n",
    "print(\"\"\"---------------- \n",
    "Имя: %s \n",
    "Возраст: %s \n",
    "Любимый цвет: %s \n",
    "----------------\n",
    "\"\"\" % (name, age, fav_color))"
   ]
  },
  {
   "cell_type": "markdown",
   "id": "c7f89ba9-1d9c-451d-ad68-851b9b4db077",
   "metadata": {},
   "source": [
    "Задание 2. Вывод списка чисел Фибоначчи до n-ого"
   ]
  },
  {
   "cell_type": "code",
   "execution_count": null,
   "id": "80e45717-350e-4535-ba0e-15a452ce3afa",
   "metadata": {},
   "outputs": [],
   "source": [
    "fib1 = 0\n",
    "fib2 = 1\n",
    "print(fib1, fib2)\n",
    "\n",
    "checker = 0\n",
    "n = int(input('Введите номер последнего элемента: '))\n",
    "\n",
    "while checker != n:\n",
    "    print(fib1)\n",
    "    fib1, fib2 = fib2, fib1 + fib2\n",
    "    checker += 1"
   ]
  },
  {
   "cell_type": "markdown",
   "id": "d64774c1-5d8b-4e1f-80c8-05e88a95bc12",
   "metadata": {},
   "source": [
    "Задание 3. Простой калькулятор"
   ]
  },
  {
   "cell_type": "code",
   "execution_count": null,
   "id": "3d5a49ef-5d97-4d74-ac46-48e9cab8eb13",
   "metadata": {},
   "outputs": [],
   "source": [
    "while True:\n",
    "    operation = input('Введите оператор: ')\n",
    "    operand1, operand2 = float(input('Введите операнды (числа через Enter): ')), float(input())\n",
    "    \n",
    "    if operation == '+':\n",
    "        print('%s + %s = %s' %(operand1, operand2, operand1 + operand2)) \n",
    "    elif operation == '-':\n",
    "        print('%s - %s = %s' %(operand1, operand2, operand1 - operand2)) \n",
    "    elif operation == '*':\n",
    "        print('%s * %s = %s' %(operand1, operand2, operand1 * operand2)) \n",
    "    elif operation == '/':\n",
    "        print('%s / %s = %s' %(operand1, operand2, operand1 / operand2))\n",
    "    else:\n",
    "        print('Такого оператора не предусмотрено!')"
   ]
  },
  {
   "cell_type": "markdown",
   "id": "92da4209-6e6e-47e3-8434-f0687396ba39",
   "metadata": {},
   "source": [
    "Задание 4. Перевод из Цельсия в Фаренгейты и обратно"
   ]
  },
  {
   "cell_type": "code",
   "execution_count": null,
   "id": "f226c41b-a698-4f90-be74-026f15ff9cfd",
   "metadata": {},
   "outputs": [],
   "source": [
    "while True:\n",
    "    choice = input('Введите исходную систему (C - Цельсий, F - Фаренгейт):' )\n",
    "    deg = float(input('Введите значение: '))\n",
    "    \n",
    "    if choice == 'C':\n",
    "        print('Это будет: %s F' %(deg * 9/5 + 32)) \n",
    "    elif choice == 'F':\n",
    "        print('Это будет: %s C' %((deg - 32) * 5/9)) \n",
    "    else:\n",
    "        print('Такого варианта нет!')"
   ]
  }
 ],
 "metadata": {
  "kernelspec": {
   "display_name": "Python 3 (ipykernel)",
   "language": "python",
   "name": "python3"
  },
  "language_info": {
   "codemirror_mode": {
    "name": "ipython",
    "version": 3
   },
   "file_extension": ".py",
   "mimetype": "text/x-python",
   "name": "python",
   "nbconvert_exporter": "python",
   "pygments_lexer": "ipython3",
   "version": "3.12.4"
  }
 },
 "nbformat": 4,
 "nbformat_minor": 5
}
