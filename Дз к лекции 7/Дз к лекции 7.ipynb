{
 "cells": [
  {
   "cell_type": "markdown",
   "id": "dd61cffb-5e12-4b86-acb6-be62e0b6a4ca",
   "metadata": {},
   "source": [
    "Задание 1. Загрузка jpg и png. У png убираем прозрачные области "
   ]
  },
  {
   "cell_type": "code",
   "execution_count": null,
   "id": "66d6b38e-608a-49e0-8226-5ace6cf4d473",
   "metadata": {},
   "outputs": [],
   "source": [
    "import cv2\n",
    "import matplotlib.pyplot as plt\n",
    "\n",
    "imgName = input('Введите название файла: ')\n",
    "image = cv2.imread(imgName, cv2.IMREAD_UNCHANGED)\n",
    "\n",
    "convImg = cv2.cvtColor(image, cv2.COLOR_BGRA2RGBA)\n",
    "plt.imshow(convImg)\n",
    "\n",
    "if '.png' in imgName:\n",
    "    alpha_channel = image[:, :, 3]\n",
    "    _, mask = cv2.threshold(alpha_channel, 0, 1, cv2.THRESH_BINARY)  # binarize mask\n",
    "    color = image[:, :, :3]\n",
    "    newImg = cv2.bitwise_not(cv2.bitwise_not(color, mask=mask))\n",
    "    \n",
    "    convNewImg = cv2.cvtColor(newImg, cv2.COLOR_BGRA2RGBA)\n",
    "    plt.imshow(convNewImg)\n",
    "\n",
    "    cv2.imwrite('res.png', newImg)"
   ]
  },
  {
   "cell_type": "markdown",
   "id": "df798fab-06ae-4b06-a000-be4bb2d17813",
   "metadata": {},
   "source": [
    "Задание 2. Изменение размера, конвертация в ч/б, размытие по Гауссу"
   ]
  },
  {
   "cell_type": "markdown",
   "id": "ff3b6287-c3e5-43fb-894b-f84796484bb8",
   "metadata": {},
   "source": [
    "import cv2\n",
    "import matplotlib.pyplot as plt\n",
    "\n",
    "imgName = input('Введите название файла: ')\n",
    "image = cv2.imread(imgName, cv2.IMREAD_UNCHANGED)\n",
    "\n",
    "resw = int(input('Введите целевую ширину: '))\n",
    "resh = int(input('Введите целевую высоту: '))\n",
    "newImg = cv2.resize(image, [resw, resh])\n",
    "\n",
    "newImg = cv2.cvtColor(newImg, cv2.COLOR_BGRA2GRAY)\n",
    "\n",
    "blurStr = int(input('Введите силу размытия: '))\n",
    "if blurStr % 2 == 0:\n",
    "    blurStr += 1\n",
    "newImg = cv2.GaussianBlur(newImg, (blurStr, blurStr), 0)\n",
    "\n",
    "convImg = cv2.cvtColor(newImg, cv2.COLOR_BGRA2RGBA)\n",
    "plt.imshow(convImg)"
   ]
  },
  {
   "cell_type": "markdown",
   "id": "2a1ef1da-399d-4b33-bf4a-be9414ed6f78",
   "metadata": {},
   "source": [
    "Задание 3-4. Работа с Git"
   ]
  },
  {
   "cell_type": "markdown",
   "id": "81ef7686-2e1b-4698-be18-b660bc86f4e2",
   "metadata": {},
   "source": [
    "Ссылка: https://github.com/MukhD/-.git"
   ]
  }
 ],
 "metadata": {
  "kernelspec": {
   "display_name": "Python 3 (ipykernel)",
   "language": "python",
   "name": "python3"
  },
  "language_info": {
   "codemirror_mode": {
    "name": "ipython",
    "version": 3
   },
   "file_extension": ".py",
   "mimetype": "text/x-python",
   "name": "python",
   "nbconvert_exporter": "python",
   "pygments_lexer": "ipython3",
   "version": "3.12.5"
  }
 },
 "nbformat": 4,
 "nbformat_minor": 5
}
