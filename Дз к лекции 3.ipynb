{
 "cells": [
  {
   "cell_type": "markdown",
   "id": "471a2eed-f47e-4ad9-a5b2-2f68ae8c6bc3",
   "metadata": {},
   "source": [
    "Задание 1. Вывести все чётные числа в заданном диапазоне"
   ]
  },
  {
   "cell_type": "code",
   "execution_count": null,
   "id": "da1668a4-1e7a-4c28-8575-8c5ad9c779fb",
   "metadata": {},
   "outputs": [],
   "source": [
    "first = int(input('Введите начала диапазона: '))\n",
    "last = int(input('Введите конец диапазона: ')) \n",
    "\n",
    "for i in range(first, last+1):\n",
    "    if i % 2 == 0:\n",
    "        print(i)"
   ]
  },
  {
   "cell_type": "markdown",
   "id": "999f7afa-1b78-4a19-84f0-cab04d776afb",
   "metadata": {},
   "source": [
    "Задание 2. Проверка палиндрома"
   ]
  },
  {
   "cell_type": "code",
   "execution_count": null,
   "id": "4ca98c8a-d7e7-414f-aa0f-788af9ec5e99",
   "metadata": {},
   "outputs": [],
   "source": [
    "inp_str = input('Введите строку: ').lower().replace(' ', '')\n",
    "str_len = len(inp_str) \n",
    "\n",
    "flag = True\n",
    "\n",
    "for i in range(0,  round(str_len/2)):\n",
    "    if inp_str[i] != inp_str[str_len-i-1]:\n",
    "        print('Не палиндром')\n",
    "        flag = False\n",
    "        break\n",
    "        \n",
    "if flag:\n",
    "    print('Палиндром')"
   ]
  },
  {
   "cell_type": "markdown",
   "id": "884c1fdd-972c-4dbe-b29b-a3bf6c38c730",
   "metadata": {},
   "source": [
    "Задание 3. Функция, принимающая список чисел и возвращающая сумму, произведение, ср. ариф."
   ]
  },
  {
   "cell_type": "code",
   "execution_count": null,
   "id": "d0ec99ec-bc13-4d9c-9224-5ec9e40a49f2",
   "metadata": {},
   "outputs": [],
   "source": [
    "import math\n",
    "\n",
    "def calc(data: list):\n",
    "    data_sum = sum(data) \n",
    "    data_prod = math.prod(data) \n",
    "    data_med = data_sum / len(data)\n",
    "\n",
    "    return data_sum, data_prod, data_med\n",
    "\n",
    "inp_data = list(map(int, input('Введите числа: ').split()))\n",
    "res = calc(inp_data)\n",
    "print('Сумма = ' + str(res[0]))\n",
    "print('Произведение = ' + str(res[1]))\n",
    "print('Среднее арифметическое = ' + str(res[2]))"
   ]
  },
  {
   "cell_type": "markdown",
   "id": "d480a54d-20f1-462d-abb5-582cee30133a",
   "metadata": {},
   "source": [
    "Задание 4. Функция для нахождения НОД по алгоритму Евклида"
   ]
  },
  {
   "cell_type": "code",
   "execution_count": null,
   "id": "a114c69a-43de-4117-a8c6-9e0b1a441379",
   "metadata": {},
   "outputs": [],
   "source": [
    "def euclid(num1: int, num2: int):\n",
    "    while num1 != 0 and num2 != 0:\n",
    "        num1, num2 = max(num1, num2), min(num1, num2) \n",
    "        num1 %= num2\n",
    "\n",
    "    return num1 or num2\n",
    "\n",
    "inp_num1 = int(input('Введите первое число: '))\n",
    "inp_num2 = int(input('Введите второе число: '))\n",
    "print(euclid(inp_num1, inp_num2))"
   ]
  }
 ],
 "metadata": {
  "kernelspec": {
   "display_name": "Python 3 (ipykernel)",
   "language": "python",
   "name": "python3"
  },
  "language_info": {
   "codemirror_mode": {
    "name": "ipython",
    "version": 3
   },
   "file_extension": ".py",
   "mimetype": "text/x-python",
   "name": "python",
   "nbconvert_exporter": "python",
   "pygments_lexer": "ipython3",
   "version": "3.12.4"
  }
 },
 "nbformat": 4,
 "nbformat_minor": 5
}
